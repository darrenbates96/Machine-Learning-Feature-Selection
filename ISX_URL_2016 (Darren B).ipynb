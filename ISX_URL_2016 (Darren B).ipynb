{
 "cells": [
  {
   "cell_type": "code",
   "execution_count": 3,
   "metadata": {},
   "outputs": [],
   "source": [
    "\n",
    "## ISCXURL2016 ##\n",
    "\n",
    "import pandas as pd\n",
    "import numpy as np\n",
    "from sklearn.impute import SimpleImputer\n",
    "from sklearn.preprocessing import MinMaxScaler"
   ]
  },
  {
   "cell_type": "code",
   "execution_count": 4,
   "metadata": {},
   "outputs": [],
   "source": [
    "### Read in the dataset ###\n",
    "\n",
    "df_raw = pd.read_csv('All.csv', low_memory = False)"
   ]
  },
  {
   "cell_type": "code",
   "execution_count": 5,
   "metadata": {},
   "outputs": [],
   "source": [
    "\n",
    "## SOME GENERAL CLEANING AND CREATION OF BINARY COLUMN ##\n",
    "\n",
    "### Cleaning column names ### \n",
    "df_raw.columns = df_raw.columns.str.strip()\n",
    "df_raw.columns = df_raw.columns.str.replace(' ', '_')\n",
    "df_raw.columns = df_raw.columns.str.replace('.', '_')"
   ]
  },
  {
   "cell_type": "code",
   "execution_count": 6,
   "metadata": {},
   "outputs": [],
   "source": [
    "### Clean Attack Labels ###\n",
    "df_raw.rename(columns={'URL_Type_obf_Type':'Label'}, inplace=True)\n",
    "df_raw['Label'] = df_raw['Label'].str.title()"
   ]
  },
  {
   "cell_type": "code",
   "execution_count": 7,
   "metadata": {},
   "outputs": [
    {
     "data": {
      "text/plain": [
       "1    28926\n",
       "0     7781\n",
       "Name: Traffic_Class, dtype: int64"
      ]
     },
     "execution_count": 7,
     "metadata": {},
     "output_type": "execute_result"
    }
   ],
   "source": [
    "### Creation of binary column for normal and attack flows ###\n",
    "Traffic_Class = []\n",
    "\n",
    "for x in df_raw['Label']:\n",
    "    if x == 'Benign':\n",
    "        Traffic_Class.append(0)\n",
    "    else:\n",
    "        Traffic_Class.append(1)\n",
    "\n",
    "df_raw['Traffic_Class'] = Traffic_Class\n",
    "\n",
    "#Value count below shows that there are 28926 attack flows within the full dataset\n",
    "df_raw['Traffic_Class'].value_counts()"
   ]
  },
  {
   "cell_type": "code",
   "execution_count": 8,
   "metadata": {
    "scrolled": true
   },
   "outputs": [
    {
     "name": "stdout",
     "output_type": "stream",
     "text": [
      "<class 'pandas.core.frame.DataFrame'>\n",
      "RangeIndex: 36707 entries, 0 to 36706\n",
      "Data columns (total 81 columns):\n",
      "Querylength                        36707 non-null int64\n",
      "domain_token_count                 36707 non-null int64\n",
      "path_token_count                   36707 non-null int64\n",
      "avgdomaintokenlen                  36707 non-null float64\n",
      "longdomaintokenlen                 36707 non-null int64\n",
      "avgpathtokenlen                    36427 non-null float64\n",
      "tld                                36707 non-null int64\n",
      "charcompvowels                     36707 non-null int64\n",
      "charcompace                        36707 non-null int64\n",
      "ldl_url                            36707 non-null int64\n",
      "ldl_domain                         36707 non-null int64\n",
      "ldl_path                           36707 non-null int64\n",
      "ldl_filename                       36707 non-null int64\n",
      "ldl_getArg                         36707 non-null int64\n",
      "dld_url                            36707 non-null int64\n",
      "dld_domain                         36707 non-null int64\n",
      "dld_path                           36707 non-null int64\n",
      "dld_filename                       36707 non-null int64\n",
      "dld_getArg                         36707 non-null int64\n",
      "urlLen                             36707 non-null int64\n",
      "domainlength                       36707 non-null int64\n",
      "pathLength                         36707 non-null int64\n",
      "subDirLen                          36707 non-null int64\n",
      "fileNameLen                        36707 non-null int64\n",
      "this_fileExtLen                    36707 non-null int64\n",
      "ArgLen                             36707 non-null int64\n",
      "pathurlRatio                       36707 non-null float64\n",
      "ArgUrlRatio                        36707 non-null float64\n",
      "argDomanRatio                      36707 non-null float64\n",
      "domainUrlRatio                     36707 non-null float64\n",
      "pathDomainRatio                    36707 non-null float64\n",
      "argPathRatio                       36707 non-null object\n",
      "executable                         36707 non-null int64\n",
      "isPortEighty                       36707 non-null int64\n",
      "NumberofDotsinURL                  36707 non-null int64\n",
      "ISIpAddressInDomainName            36707 non-null int64\n",
      "CharacterContinuityRate            36707 non-null float64\n",
      "LongestVariableValue               36707 non-null int64\n",
      "URL_DigitCount                     36707 non-null int64\n",
      "host_DigitCount                    36707 non-null int64\n",
      "Directory_DigitCount               36707 non-null int64\n",
      "File_name_DigitCount               36707 non-null int64\n",
      "Extension_DigitCount               36707 non-null int64\n",
      "Query_DigitCount                   36707 non-null int64\n",
      "URL_Letter_Count                   36707 non-null int64\n",
      "host_letter_count                  36707 non-null int64\n",
      "Directory_LetterCount              36707 non-null int64\n",
      "Filename_LetterCount               36707 non-null int64\n",
      "Extension_LetterCount              36707 non-null int64\n",
      "Query_LetterCount                  36707 non-null int64\n",
      "LongestPathTokenLength             36707 non-null int64\n",
      "Domain_LongestWordLength           36707 non-null int64\n",
      "Path_LongestWordLength             36707 non-null int64\n",
      "sub-Directory_LongestWordLength    36707 non-null int64\n",
      "Arguments_LongestWordLength        36707 non-null int64\n",
      "URL_sensitiveWord                  36707 non-null int64\n",
      "URLQueries_variable                36707 non-null int64\n",
      "spcharUrl                          36707 non-null int64\n",
      "delimeter_Domain                   36707 non-null int64\n",
      "delimeter_path                     36707 non-null int64\n",
      "delimeter_Count                    36707 non-null int64\n",
      "NumberRate_URL                     36707 non-null float64\n",
      "NumberRate_Domain                  36707 non-null float64\n",
      "NumberRate_DirectoryName           36697 non-null float64\n",
      "NumberRate_FileName                36697 non-null float64\n",
      "NumberRate_Extension               26577 non-null float64\n",
      "NumberRate_AfterPath               36704 non-null float64\n",
      "SymbolCount_URL                    36707 non-null int64\n",
      "SymbolCount_Domain                 36707 non-null int64\n",
      "SymbolCount_Directoryname          36707 non-null int64\n",
      "SymbolCount_FileName               36707 non-null int64\n",
      "SymbolCount_Extension              36707 non-null int64\n",
      "SymbolCount_Afterpath              36707 non-null int64\n",
      "Entropy_URL                        36707 non-null float64\n",
      "Entropy_Domain                     36707 non-null float64\n",
      "Entropy_DirectoryName              28239 non-null float64\n",
      "Entropy_Filename                   36471 non-null float64\n",
      "Entropy_Extension                  36667 non-null float64\n",
      "Entropy_Afterpath                  36701 non-null float64\n",
      "Label                              36707 non-null object\n",
      "Traffic_Class                      36707 non-null int64\n",
      "dtypes: float64(20), int64(59), object(2)\n",
      "memory usage: 22.7+ MB\n"
     ]
    }
   ],
   "source": [
    "\n",
    "## EDA ##\n",
    "\n",
    "df_raw.info()"
   ]
  },
  {
   "cell_type": "code",
   "execution_count": 9,
   "metadata": {},
   "outputs": [
    {
     "data": {
      "text/plain": [
       "Defacement    7930\n",
       "Benign        7781\n",
       "Phishing      7586\n",
       "Malware       6712\n",
       "Spam          6698\n",
       "Name: Label, dtype: int64"
      ]
     },
     "execution_count": 9,
     "metadata": {},
     "output_type": "execute_result"
    }
   ],
   "source": [
    "### Value counts for different attack types ###\n",
    "\n",
    "df_raw.Label.value_counts()"
   ]
  },
  {
   "cell_type": "code",
   "execution_count": 10,
   "metadata": {},
   "outputs": [
    {
     "data": {
      "text/plain": [
       "19183"
      ]
     },
     "execution_count": 10,
     "metadata": {},
     "output_type": "execute_result"
    }
   ],
   "source": [
    "### Check dataset for missing values ###\n",
    "\n",
    "df_raw.isnull().sum().sum()\n",
    "#Thus there are 19183 NaN's in the dataset"
   ]
  },
  {
   "cell_type": "code",
   "execution_count": 11,
   "metadata": {},
   "outputs": [
    {
     "data": {
      "text/plain": [
       "0.1            1126\n",
       "0.044444446     633\n",
       "0.045454547     489\n",
       "0.041666668     454\n",
       "0.08            445\n",
       "Name: argPathRatio, dtype: int64"
      ]
     },
     "execution_count": 11,
     "metadata": {},
     "output_type": "execute_result"
    }
   ],
   "source": [
    "#Only other 'object' variable is argPathRatio\n",
    "\n",
    "df_raw.argPathRatio.value_counts().head()"
   ]
  },
  {
   "cell_type": "code",
   "execution_count": 12,
   "metadata": {},
   "outputs": [
    {
     "data": {
      "text/html": [
       "<div>\n",
       "<style scoped>\n",
       "    .dataframe tbody tr th:only-of-type {\n",
       "        vertical-align: middle;\n",
       "    }\n",
       "\n",
       "    .dataframe tbody tr th {\n",
       "        vertical-align: top;\n",
       "    }\n",
       "\n",
       "    .dataframe thead th {\n",
       "        text-align: right;\n",
       "    }\n",
       "</style>\n",
       "<table border=\"1\" class=\"dataframe\">\n",
       "  <thead>\n",
       "    <tr style=\"text-align: right;\">\n",
       "      <th></th>\n",
       "      <th>Querylength</th>\n",
       "      <th>domain_token_count</th>\n",
       "      <th>path_token_count</th>\n",
       "      <th>avgdomaintokenlen</th>\n",
       "      <th>longdomaintokenlen</th>\n",
       "      <th>avgpathtokenlen</th>\n",
       "      <th>tld</th>\n",
       "      <th>charcompvowels</th>\n",
       "      <th>charcompace</th>\n",
       "      <th>ldl_url</th>\n",
       "      <th>...</th>\n",
       "      <th>SymbolCount_FileName</th>\n",
       "      <th>SymbolCount_Extension</th>\n",
       "      <th>SymbolCount_Afterpath</th>\n",
       "      <th>Entropy_URL</th>\n",
       "      <th>Entropy_Domain</th>\n",
       "      <th>Entropy_DirectoryName</th>\n",
       "      <th>Entropy_Filename</th>\n",
       "      <th>Entropy_Extension</th>\n",
       "      <th>Entropy_Afterpath</th>\n",
       "      <th>Traffic_Class</th>\n",
       "    </tr>\n",
       "  </thead>\n",
       "  <tbody>\n",
       "    <tr>\n",
       "      <th>count</th>\n",
       "      <td>36707.000000</td>\n",
       "      <td>36707.000000</td>\n",
       "      <td>36707.000000</td>\n",
       "      <td>36707.000000</td>\n",
       "      <td>36707.000000</td>\n",
       "      <td>36427.000000</td>\n",
       "      <td>36707.000000</td>\n",
       "      <td>36707.000000</td>\n",
       "      <td>36707.000000</td>\n",
       "      <td>36707.000000</td>\n",
       "      <td>...</td>\n",
       "      <td>36707.000000</td>\n",
       "      <td>36707.000000</td>\n",
       "      <td>36707.000000</td>\n",
       "      <td>36707.000000</td>\n",
       "      <td>36707.000000</td>\n",
       "      <td>28239.000000</td>\n",
       "      <td>36471.000000</td>\n",
       "      <td>36667.000000</td>\n",
       "      <td>36701.000000</td>\n",
       "      <td>36707.000000</td>\n",
       "    </tr>\n",
       "    <tr>\n",
       "      <th>mean</th>\n",
       "      <td>21.908110</td>\n",
       "      <td>2.857439</td>\n",
       "      <td>8.954668</td>\n",
       "      <td>5.401719</td>\n",
       "      <td>9.746016</td>\n",
       "      <td>4.556261</td>\n",
       "      <td>2.857439</td>\n",
       "      <td>14.976517</td>\n",
       "      <td>10.216117</td>\n",
       "      <td>3.363909</td>\n",
       "      <td>...</td>\n",
       "      <td>3.600049</td>\n",
       "      <td>2.685237</td>\n",
       "      <td>1.903261</td>\n",
       "      <td>0.722350</td>\n",
       "      <td>0.842443</td>\n",
       "      <td>0.677459</td>\n",
       "      <td>0.715834</td>\n",
       "      <td>0.508212</td>\n",
       "      <td>-0.208900</td>\n",
       "      <td>0.788024</td>\n",
       "    </tr>\n",
       "    <tr>\n",
       "      <th>std</th>\n",
       "      <td>94.280669</td>\n",
       "      <td>0.906562</td>\n",
       "      <td>4.278406</td>\n",
       "      <td>1.986858</td>\n",
       "      <td>4.856580</td>\n",
       "      <td>2.839388</td>\n",
       "      <td>0.906562</td>\n",
       "      <td>13.351315</td>\n",
       "      <td>10.845807</td>\n",
       "      <td>13.447289</td>\n",
       "      <td>...</td>\n",
       "      <td>4.783213</td>\n",
       "      <td>4.557171</td>\n",
       "      <td>4.512421</td>\n",
       "      <td>0.048820</td>\n",
       "      <td>0.066251</td>\n",
       "      <td>0.450683</td>\n",
       "      <td>0.411712</td>\n",
       "      <td>0.519695</td>\n",
       "      <td>0.891581</td>\n",
       "      <td>0.408713</td>\n",
       "    </tr>\n",
       "    <tr>\n",
       "      <th>min</th>\n",
       "      <td>0.000000</td>\n",
       "      <td>2.000000</td>\n",
       "      <td>0.000000</td>\n",
       "      <td>1.500000</td>\n",
       "      <td>2.000000</td>\n",
       "      <td>0.000000</td>\n",
       "      <td>2.000000</td>\n",
       "      <td>0.000000</td>\n",
       "      <td>0.000000</td>\n",
       "      <td>0.000000</td>\n",
       "      <td>...</td>\n",
       "      <td>-1.000000</td>\n",
       "      <td>-1.000000</td>\n",
       "      <td>-1.000000</td>\n",
       "      <td>0.419560</td>\n",
       "      <td>0.561913</td>\n",
       "      <td>-1.000000</td>\n",
       "      <td>-1.000000</td>\n",
       "      <td>-1.000000</td>\n",
       "      <td>-1.000000</td>\n",
       "      <td>0.000000</td>\n",
       "    </tr>\n",
       "    <tr>\n",
       "      <th>25%</th>\n",
       "      <td>0.000000</td>\n",
       "      <td>2.000000</td>\n",
       "      <td>6.000000</td>\n",
       "      <td>4.000000</td>\n",
       "      <td>6.000000</td>\n",
       "      <td>3.000000</td>\n",
       "      <td>2.000000</td>\n",
       "      <td>7.000000</td>\n",
       "      <td>5.000000</td>\n",
       "      <td>0.000000</td>\n",
       "      <td>...</td>\n",
       "      <td>0.000000</td>\n",
       "      <td>0.000000</td>\n",
       "      <td>-1.000000</td>\n",
       "      <td>0.691929</td>\n",
       "      <td>0.795234</td>\n",
       "      <td>0.731621</td>\n",
       "      <td>0.719904</td>\n",
       "      <td>0.000000</td>\n",
       "      <td>-1.000000</td>\n",
       "      <td>1.000000</td>\n",
       "    </tr>\n",
       "    <tr>\n",
       "      <th>50%</th>\n",
       "      <td>0.000000</td>\n",
       "      <td>3.000000</td>\n",
       "      <td>8.000000</td>\n",
       "      <td>5.000000</td>\n",
       "      <td>9.000000</td>\n",
       "      <td>4.100000</td>\n",
       "      <td>3.000000</td>\n",
       "      <td>13.000000</td>\n",
       "      <td>8.000000</td>\n",
       "      <td>0.000000</td>\n",
       "      <td>...</td>\n",
       "      <td>1.000000</td>\n",
       "      <td>0.000000</td>\n",
       "      <td>-1.000000</td>\n",
       "      <td>0.723003</td>\n",
       "      <td>0.835752</td>\n",
       "      <td>0.790535</td>\n",
       "      <td>0.785150</td>\n",
       "      <td>0.729292</td>\n",
       "      <td>-1.000000</td>\n",
       "      <td>1.000000</td>\n",
       "    </tr>\n",
       "    <tr>\n",
       "      <th>75%</th>\n",
       "      <td>19.000000</td>\n",
       "      <td>3.000000</td>\n",
       "      <td>11.000000</td>\n",
       "      <td>6.500000</td>\n",
       "      <td>12.000000</td>\n",
       "      <td>5.000000</td>\n",
       "      <td>3.000000</td>\n",
       "      <td>19.000000</td>\n",
       "      <td>12.000000</td>\n",
       "      <td>1.000000</td>\n",
       "      <td>...</td>\n",
       "      <td>6.000000</td>\n",
       "      <td>4.000000</td>\n",
       "      <td>3.000000</td>\n",
       "      <td>0.754305</td>\n",
       "      <td>0.884735</td>\n",
       "      <td>0.851410</td>\n",
       "      <td>0.884662</td>\n",
       "      <td>0.910005</td>\n",
       "      <td>0.758695</td>\n",
       "      <td>1.000000</td>\n",
       "    </tr>\n",
       "    <tr>\n",
       "      <th>max</th>\n",
       "      <td>1385.000000</td>\n",
       "      <td>19.000000</td>\n",
       "      <td>68.000000</td>\n",
       "      <td>29.500000</td>\n",
       "      <td>63.000000</td>\n",
       "      <td>105.000000</td>\n",
       "      <td>19.000000</td>\n",
       "      <td>193.000000</td>\n",
       "      <td>142.000000</td>\n",
       "      <td>207.000000</td>\n",
       "      <td>...</td>\n",
       "      <td>40.000000</td>\n",
       "      <td>39.000000</td>\n",
       "      <td>40.000000</td>\n",
       "      <td>0.895403</td>\n",
       "      <td>1.000000</td>\n",
       "      <td>0.962479</td>\n",
       "      <td>1.000000</td>\n",
       "      <td>1.000000</td>\n",
       "      <td>1.000000</td>\n",
       "      <td>1.000000</td>\n",
       "    </tr>\n",
       "  </tbody>\n",
       "</table>\n",
       "<p>8 rows × 79 columns</p>\n",
       "</div>"
      ],
      "text/plain": [
       "        Querylength  domain_token_count  path_token_count  avgdomaintokenlen  \\\n",
       "count  36707.000000        36707.000000      36707.000000       36707.000000   \n",
       "mean      21.908110            2.857439          8.954668           5.401719   \n",
       "std       94.280669            0.906562          4.278406           1.986858   \n",
       "min        0.000000            2.000000          0.000000           1.500000   \n",
       "25%        0.000000            2.000000          6.000000           4.000000   \n",
       "50%        0.000000            3.000000          8.000000           5.000000   \n",
       "75%       19.000000            3.000000         11.000000           6.500000   \n",
       "max     1385.000000           19.000000         68.000000          29.500000   \n",
       "\n",
       "       longdomaintokenlen  avgpathtokenlen           tld  charcompvowels  \\\n",
       "count        36707.000000     36427.000000  36707.000000    36707.000000   \n",
       "mean             9.746016         4.556261      2.857439       14.976517   \n",
       "std              4.856580         2.839388      0.906562       13.351315   \n",
       "min              2.000000         0.000000      2.000000        0.000000   \n",
       "25%              6.000000         3.000000      2.000000        7.000000   \n",
       "50%              9.000000         4.100000      3.000000       13.000000   \n",
       "75%             12.000000         5.000000      3.000000       19.000000   \n",
       "max             63.000000       105.000000     19.000000      193.000000   \n",
       "\n",
       "        charcompace       ldl_url      ...        SymbolCount_FileName  \\\n",
       "count  36707.000000  36707.000000      ...                36707.000000   \n",
       "mean      10.216117      3.363909      ...                    3.600049   \n",
       "std       10.845807     13.447289      ...                    4.783213   \n",
       "min        0.000000      0.000000      ...                   -1.000000   \n",
       "25%        5.000000      0.000000      ...                    0.000000   \n",
       "50%        8.000000      0.000000      ...                    1.000000   \n",
       "75%       12.000000      1.000000      ...                    6.000000   \n",
       "max      142.000000    207.000000      ...                   40.000000   \n",
       "\n",
       "       SymbolCount_Extension  SymbolCount_Afterpath   Entropy_URL  \\\n",
       "count           36707.000000           36707.000000  36707.000000   \n",
       "mean                2.685237               1.903261      0.722350   \n",
       "std                 4.557171               4.512421      0.048820   \n",
       "min                -1.000000              -1.000000      0.419560   \n",
       "25%                 0.000000              -1.000000      0.691929   \n",
       "50%                 0.000000              -1.000000      0.723003   \n",
       "75%                 4.000000               3.000000      0.754305   \n",
       "max                39.000000              40.000000      0.895403   \n",
       "\n",
       "       Entropy_Domain  Entropy_DirectoryName  Entropy_Filename  \\\n",
       "count    36707.000000           28239.000000      36471.000000   \n",
       "mean         0.842443               0.677459          0.715834   \n",
       "std          0.066251               0.450683          0.411712   \n",
       "min          0.561913              -1.000000         -1.000000   \n",
       "25%          0.795234               0.731621          0.719904   \n",
       "50%          0.835752               0.790535          0.785150   \n",
       "75%          0.884735               0.851410          0.884662   \n",
       "max          1.000000               0.962479          1.000000   \n",
       "\n",
       "       Entropy_Extension  Entropy_Afterpath  Traffic_Class  \n",
       "count       36667.000000       36701.000000   36707.000000  \n",
       "mean            0.508212          -0.208900       0.788024  \n",
       "std             0.519695           0.891581       0.408713  \n",
       "min            -1.000000          -1.000000       0.000000  \n",
       "25%             0.000000          -1.000000       1.000000  \n",
       "50%             0.729292          -1.000000       1.000000  \n",
       "75%             0.910005           0.758695       1.000000  \n",
       "max             1.000000           1.000000       1.000000  \n",
       "\n",
       "[8 rows x 79 columns]"
      ]
     },
     "execution_count": 12,
     "metadata": {},
     "output_type": "execute_result"
    }
   ],
   "source": [
    "df_raw.describe()"
   ]
  },
  {
   "cell_type": "code",
   "execution_count": 13,
   "metadata": {},
   "outputs": [
    {
     "data": {
      "text/plain": [
       "10"
      ]
     },
     "execution_count": 13,
     "metadata": {},
     "output_type": "execute_result"
    }
   ],
   "source": [
    "### argPathRatio contains 'Infinity' ###\n",
    "count = 0 \n",
    "for x in df_raw.argPathRatio:\n",
    "    if x == 'Infinity':\n",
    "        count += 1\n",
    "\n",
    "count"
   ]
  },
  {
   "cell_type": "code",
   "execution_count": 14,
   "metadata": {},
   "outputs": [
    {
     "data": {
      "text/plain": [
       "19193"
      ]
     },
     "execution_count": 14,
     "metadata": {},
     "output_type": "execute_result"
    }
   ],
   "source": [
    "### Replace 'Infinity' with NaN (there is only 10) ###\n",
    "\n",
    "df_raw = df_raw.replace('Infinity', np.nan)\n",
    "df_raw.isnull().sum().sum()"
   ]
  },
  {
   "cell_type": "code",
   "execution_count": 15,
   "metadata": {},
   "outputs": [],
   "source": [
    "\n",
    "## IMPUTATION (Remove NaN's)##\n",
    "\n",
    "#Create new dataframe to impute on that excludes the object variable 'Label'\n",
    "df_imp = df_raw.drop(df_raw.columns[[79, 80]], axis=1)\n",
    "#Change object variable 'argPthRatio' to numeric \n",
    "df_imp['argPathRatio'] = pd.to_numeric(df_raw['argPathRatio'])"
   ]
  },
  {
   "cell_type": "code",
   "execution_count": 16,
   "metadata": {},
   "outputs": [],
   "source": [
    "#Impute missing data (encoded as NaN's above)\n",
    "imp = SimpleImputer(strategy = 'mean')\n",
    "imp_out = imp.fit_transform(df_imp)\n",
    "\n",
    "#Restructuring Imputation output back into a dataframe\n",
    "colnames = df_imp.columns\n",
    "df_imp_out = pd.DataFrame(imp_out, columns = colnames)"
   ]
  },
  {
   "cell_type": "code",
   "execution_count": 17,
   "metadata": {},
   "outputs": [
    {
     "data": {
      "text/plain": [
       "0"
      ]
     },
     "execution_count": 17,
     "metadata": {},
     "output_type": "execute_result"
    }
   ],
   "source": [
    "\n",
    "## STANDARDIZATION (SCALING) ##\n",
    "\n",
    "#Reset the index to avoid previously encountered error\n",
    "df_imp_out = df_imp_out.reset_index()\n",
    "\n",
    "#Convert all dtypes to float64 before scaling to avoid \"DataConversionWarning\"\n",
    "for convert in df_imp_out.columns:\n",
    "    df_imp_out[convert] = df_imp_out[convert].astype(float)\n",
    "\n",
    "scaler = MinMaxScaler()\n",
    "\n",
    "for column in df_imp_out.columns:\n",
    "    df_imp_out[column] = scaler.fit_transform(df_imp_out[column].values.reshape(-1,1))\n",
    "\n",
    "#Re-check new dataset for missing values\n",
    "df_imp_out.isnull().sum().sum()    "
   ]
  },
  {
   "cell_type": "code",
   "execution_count": 18,
   "metadata": {},
   "outputs": [],
   "source": [
    "### Reincorporate previously removed 'Label' ###\n",
    "\n",
    "df_imp_out['Label'] = df_raw['Label']\n",
    "df_imp_out['Traffic_Class'] = df_raw['Traffic_Class']\n",
    "col_order = df_raw.columns\n",
    "df = df_imp_out[col_order]"
   ]
  },
  {
   "cell_type": "code",
   "execution_count": 19,
   "metadata": {},
   "outputs": [],
   "source": [
    "\n",
    "## MACHINE LEARNING ALGORITHMS ##\n",
    "\n",
    "from sklearn.model_selection import train_test_split \n",
    "from sklearn.model_selection import cross_val_score\n",
    "from sklearn.neighbors import KNeighborsClassifier\n",
    "from sklearn.linear_model import LogisticRegression\n",
    "from sklearn.ensemble import RandomForestClassifier \n",
    "from sklearn.tree import DecisionTreeClassifier\n",
    "from sklearn.cluster import KMeans\n",
    "from sklearn.svm import SVC\n",
    "from sklearn.manifold import TSNE\n",
    "from sklearn.model_selection import GridSearchCV\n",
    "from sklearn.metrics import accuracy_score\n",
    "from time import time\n",
    "\n",
    "### Split the dataset ###\n",
    "\n",
    "X = df.iloc[:,0:79]\n",
    "y = df[['Traffic_Class']]"
   ]
  },
  {
   "cell_type": "code",
   "execution_count": 20,
   "metadata": {},
   "outputs": [],
   "source": [
    "### Split dataset into training and test data ###\n",
    "\n",
    "X_train, X_test, y_train, y_test = train_test_split(X, y, test_size = 0.15, random_state = 42)"
   ]
  },
  {
   "cell_type": "code",
   "execution_count": 21,
   "metadata": {},
   "outputs": [
    {
     "name": "stdout",
     "output_type": "stream",
     "text": [
      "Training data shape: (31200, 79)\n",
      "Test data shape: (5507, 79)\n"
     ]
    }
   ],
   "source": [
    "print(\"Training data shape:\", X_train.shape)\n",
    "print(\"Test data shape:\", X_test.shape)"
   ]
  },
  {
   "cell_type": "code",
   "execution_count": 82,
   "metadata": {},
   "outputs": [],
   "source": [
    "## Create Accuracy Matrix ##\n",
    "\n",
    "acc_mat = [['KNN', 'LogReg', 'Random Forest', 'Decision Tree', 'KMeans', \n",
    "            'KMeans (Unsupervised)', 'SVM', 'ExtraTreeClassifier', \n",
    "            'GradientBoostingClassifier', 'XGBoost'], [], [], [], [], []]\n"
   ]
  },
  {
   "cell_type": "code",
   "execution_count": 83,
   "metadata": {},
   "outputs": [
    {
     "name": "stdout",
     "output_type": "stream",
     "text": [
      "Standard KNN accuracy: 0.9863809696749591\n",
      "Duration: 4.998862981796265\n"
     ]
    }
   ],
   "source": [
    "### KNearest Neighbor ###\n",
    "\n",
    "t0 = time()\n",
    "knn = KNeighborsClassifier()\n",
    "knn.fit(X_train, y_train.values.ravel())\n",
    "y_pred = knn.predict(X_test)\n",
    "print (\"Standard KNN accuracy:\", accuracy_score(y_test, y_pred))\n",
    "print (\"Duration:\", time() - t0)\n",
    "\n",
    "acc_mat[1].append(accuracy_score(y_test, y_pred))"
   ]
  },
  {
   "cell_type": "code",
   "execution_count": 84,
   "metadata": {},
   "outputs": [
    {
     "name": "stdout",
     "output_type": "stream",
     "text": [
      "Standard Logistic Regression accuracy: 0.9162883602687488\n",
      "Duration: 0.7498269081115723\n"
     ]
    }
   ],
   "source": [
    "### Logistic Regression ###\n",
    "\n",
    "t0 = time()\n",
    "logreg = LogisticRegression(solver = 'liblinear')\n",
    "logreg.fit(X_train, y_train.values.ravel())\n",
    "y_pred = logreg.predict(X_test)\n",
    "print (\"Standard Logistic Regression accuracy:\", accuracy_score(y_test, y_pred))\n",
    "print (\"Duration:\", time() - t0)\n",
    "\n",
    "acc_mat[1].append(accuracy_score(y_test, y_pred))"
   ]
  },
  {
   "cell_type": "code",
   "execution_count": 85,
   "metadata": {},
   "outputs": [
    {
     "name": "stdout",
     "output_type": "stream",
     "text": [
      "Standard Random Forest accuracy: 0.9929181042309787\n",
      "Duration: 9.217990636825562\n"
     ]
    }
   ],
   "source": [
    "### Random Forest ###\n",
    "\n",
    "t0 = time()\n",
    "rf = RandomForestClassifier(n_estimators = 100) #Was getting deprecation warning.\n",
    "rf.fit(X_train, y_train.values.ravel())\n",
    "y_pred = rf.predict(X_test)\n",
    "print (\"Standard Random Forest accuracy:\", accuracy_score(y_test, y_pred))\n",
    "print (\"Duration:\", time() - t0)\n",
    "\n",
    "acc_mat[1].append(accuracy_score(y_test, y_pred))"
   ]
  },
  {
   "cell_type": "code",
   "execution_count": 86,
   "metadata": {},
   "outputs": [
    {
     "name": "stdout",
     "output_type": "stream",
     "text": [
      "Standard Decision Tree accuracy: 0.9874704921009624\n",
      "Duration: 1.968125581741333\n"
     ]
    }
   ],
   "source": [
    "### Decision Trees ###\n",
    "\n",
    "t0 = time()\n",
    "tree = DecisionTreeClassifier()\n",
    "tree.fit(X_train, y_train.values.ravel())\n",
    "y_pred = tree.predict(X_test)\n",
    "print (\"Standard Decision Tree accuracy:\", accuracy_score(y_test, y_pred))\n",
    "print (\"Duration:\", time() - t0)\n",
    "\n",
    "acc_mat[1].append(accuracy_score(y_test, y_pred))"
   ]
  },
  {
   "cell_type": "code",
   "execution_count": 87,
   "metadata": {},
   "outputs": [
    {
     "name": "stdout",
     "output_type": "stream",
     "text": [
      "Standard KMeans accuracy: 0.14290902487742874\n",
      "Duration: 7.407062530517578\n"
     ]
    }
   ],
   "source": [
    "### KMeans ###\n",
    "\n",
    "t0 = time()\n",
    "kmc = KMeans()\n",
    "kmc.fit(X_train, y_train.values.ravel())\n",
    "y_pred = kmc.predict(X_test)\n",
    "print (\"Standard KMeans accuracy:\", accuracy_score(y_test, y_pred))\n",
    "print (\"Duration:\", time() - t0)\n",
    "\n",
    "acc_mat[1].append(accuracy_score(y_test, y_pred))"
   ]
  },
  {
   "cell_type": "code",
   "execution_count": 88,
   "metadata": {},
   "outputs": [
    {
     "name": "stdout",
     "output_type": "stream",
     "text": [
      "Standard (unsupervised) KMeans accuracy: 0.11421826765934265\n",
      "Duration: 7.916837930679321\n"
     ]
    }
   ],
   "source": [
    "### KMeans (Unsupervised) ###\n",
    "\n",
    "t0 = time()\n",
    "kmc = KMeans()\n",
    "kmc.fit(X_train)\n",
    "y_pred = kmc.predict(X_test)\n",
    "print (\"Standard (unsupervised) KMeans accuracy:\", accuracy_score(y_test, y_pred))\n",
    "print (\"Duration:\", time() - t0)\n",
    "\n",
    "acc_mat[1].append(accuracy_score(y_test, y_pred))"
   ]
  },
  {
   "cell_type": "code",
   "execution_count": 89,
   "metadata": {},
   "outputs": [
    {
     "name": "stdout",
     "output_type": "stream",
     "text": [
      "Support Vector Machine accuracy: 0.9208280370437625\n",
      "Duration: 100.96391224861145\n"
     ]
    }
   ],
   "source": [
    "### Support Vector Machine ###\n",
    "\n",
    "t0 = time()\n",
    "svm = SVC(gamma = 'scale') #Was getting deprecation warning.\n",
    "svm.fit(X_train, y_train.values.ravel())\n",
    "y_pred = svm.predict(X_test)\n",
    "print (\"Support Vector Machine accuracy:\", accuracy_score(y_test, y_pred))\n",
    "print (\"Duration:\", time() - t0)\n",
    "\n",
    "acc_mat[1].append(accuracy_score(y_test, y_pred))"
   ]
  },
  {
   "cell_type": "code",
   "execution_count": 90,
   "metadata": {},
   "outputs": [],
   "source": [
    "\n",
    "## FEATURE SELECTION ##\n",
    "\n",
    "from sklearn.feature_selection import RFECV"
   ]
  },
  {
   "cell_type": "code",
   "execution_count": 91,
   "metadata": {},
   "outputs": [
    {
     "name": "stdout",
     "output_type": "stream",
     "text": [
      "Number of features after elimination: 43\n",
      "Training Accuracy: 0.9143910256410256\n",
      "Model prediction Accuracy: 0.9177410568367532\n",
      "Duration: 230.88849401474\n"
     ]
    }
   ],
   "source": [
    "### RECURSIVE FEATURE ELIMINATION ###\n",
    "\n",
    "#Append to acc_mat to fill RFE gaps\n",
    "acc_mat[2].append(np.nan)\n",
    "\n",
    "### With Logistic Regression ###\n",
    "\n",
    "t0 = time()\n",
    "rfecv_lr = RFECV(LogisticRegression(solver = 'liblinear'), cv = 5, scoring = 'accuracy') #Specified cv because kept getting future warning\n",
    "rfecv_lr.fit(X_train, y_train.values.ravel())\n",
    "pred = rfecv_lr.predict(X_test)\n",
    "print(\"Number of features after elimination:\", rfecv_lr.n_features_)\n",
    "print(\"Training Accuracy:\", rfecv_lr.score(X_train, y_train))\n",
    "print(\"Model prediction Accuracy:\", accuracy_score(y_test, pred))\n",
    "print (\"Duration:\", time() - t0)\n",
    "\n",
    "acc_mat[2].append(accuracy_score(y_test, y_pred))"
   ]
  },
  {
   "cell_type": "code",
   "execution_count": 92,
   "metadata": {},
   "outputs": [
    {
     "name": "stdout",
     "output_type": "stream",
     "text": [
      "Number of features after elimination: 26\n",
      "Training Accuracy: 1.0\n",
      "Model prediction Accuracy: 0.9929181042309787\n",
      "Duration: 3188.620173215866\n"
     ]
    }
   ],
   "source": [
    "### With Random Forest ###\n",
    "\n",
    "t0 = time()\n",
    "rfecv_rf = RFECV(RandomForestClassifier(n_estimators = 100), cv = 5, scoring = 'accuracy') #Specified cv because kept getting future warning\n",
    "rfecv_rf.fit(X_train, y_train.values.ravel())\n",
    "pred = rfecv_rf.predict(X_test)\n",
    "print(\"Number of features after elimination:\", rfecv_rf.n_features_)\n",
    "print(\"Training Accuracy:\", rfecv_rf.score(X_train, y_train))\n",
    "print(\"Model prediction Accuracy:\", accuracy_score(y_test, pred))\n",
    "print(\"Duration:\", time() - t0) \n",
    "\n",
    "acc_mat[2].append(accuracy_score(y_test, y_pred))"
   ]
  },
  {
   "cell_type": "code",
   "execution_count": 93,
   "metadata": {},
   "outputs": [
    {
     "name": "stdout",
     "output_type": "stream",
     "text": [
      "Number of features after elimination: 20\n",
      "Training Accuracy: 1.0\n",
      "Model prediction Accuracy: 0.9861993826039586\n",
      "Duration: 427.28291296958923\n"
     ]
    }
   ],
   "source": [
    "### With Decision Tree ###\n",
    "\n",
    "t0 = time()\n",
    "rfecv_dt = RFECV(DecisionTreeClassifier(), cv = 5, scoring = 'accuracy') #Specified cv because kept getting future warning\n",
    "rfecv_dt.fit(X_train, y_train.values.ravel())\n",
    "pred = rfecv_dt.predict(X_test)\n",
    "print(\"Number of features after elimination:\", rfecv_dt.n_features_)\n",
    "print(\"Training Accuracy:\", rfecv_dt.score(X_train, y_train))\n",
    "print(\"Model prediction Accuracy:\", accuracy_score(y_test, pred))\n",
    "print(\"Duration:\", time() - t0)  \n",
    "\n",
    "acc_mat[2].append(accuracy_score(y_test, y_pred))"
   ]
  },
  {
   "cell_type": "code",
   "execution_count": 94,
   "metadata": {},
   "outputs": [],
   "source": [
    "#Append to acc_mat to fill RFE gaps\n",
    "acc_mat[2].append(np.nan)\n",
    "acc_mat[2].append(np.nan)\n",
    "acc_mat[2].append(np.nan)\n",
    "acc_mat[2].append(np.nan)\n",
    "acc_mat[2].append(np.nan)\n",
    "acc_mat[2].append(np.nan)"
   ]
  },
  {
   "cell_type": "code",
   "execution_count": 95,
   "metadata": {
    "scrolled": true
   },
   "outputs": [
    {
     "data": {
      "image/png": "[encoded data removed]",
      "text/plain": [
       "<Figure size 432x288 with 1 Axes>"
      ]
     },
     "metadata": {
      "needs_background": "light"
     },
     "output_type": "display_data"
    }
   ],
   "source": [
    "%matplotlib inline\n",
    "\n",
    "### PRINCIPAL COMPONENT ANALYSIS ###\n",
    "\n",
    "from sklearn.decomposition import PCA\n",
    "import matplotlib.pyplot as plt\n",
    "\n",
    "#Fit PCA algorithm to data \n",
    "pca = PCA().fit(X)\n",
    "\n",
    "#Plotting the Cumulative Summation of the Explained Variance\n",
    "plt.figure()\n",
    "plt.plot(np.cumsum(pca.explained_variance_ratio_))\n",
    "plt.xlabel('Number of Components')\n",
    "plt.ylabel('Variance (%)') #for each component\n",
    "plt.title('Pulsar Dataset Explained Variance')\n",
    "plt.show()\n",
    "\n",
    "#Plot below shows that 30 components used will preserve somewhere between\n",
    "#90 and 99% of the total varience of the data"
   ]
  },
  {
   "cell_type": "code",
   "execution_count": 96,
   "metadata": {},
   "outputs": [
    {
     "name": "stdout",
     "output_type": "stream",
     "text": [
      "PCA X_train dimensions: (31200, 30)\n",
      "PCA X_test dimensions: (5507, 30)\n"
     ]
    }
   ],
   "source": [
    "pca = PCA(n_components = 30) #Worked out/justified above\n",
    "pc_X_train = pca.fit_transform(X_train)\n",
    "pc_X_test = pca.fit_transform(X_test)\n",
    "\n",
    "print(\"PCA X_train dimensions:\", pc_X_train.shape)\n",
    "print(\"PCA X_test dimensions:\", pc_X_test.shape)"
   ]
  },
  {
   "cell_type": "code",
   "execution_count": 97,
   "metadata": {},
   "outputs": [
    {
     "name": "stdout",
     "output_type": "stream",
     "text": [
      "KNN accuracy with PCA: 0.9738514617759215\n",
      "Duration: 4.536957263946533\n"
     ]
    }
   ],
   "source": [
    "### With KNearest Neighbor ###\n",
    "\n",
    "t0 = time()\n",
    "pca_knn = knn = KNeighborsClassifier()\n",
    "pca_knn.fit(pc_X_train, y_train.values.ravel())\n",
    "y_pred = pca_knn.predict(pc_X_test)\n",
    "print (\"KNN accuracy with PCA:\", accuracy_score(y_test, y_pred))\n",
    "print (\"Duration:\", time() - t0)\n",
    "\n",
    "acc_mat[3].append(accuracy_score(y_test, y_pred))"
   ]
  },
  {
   "cell_type": "code",
   "execution_count": 98,
   "metadata": {},
   "outputs": [
    {
     "name": "stdout",
     "output_type": "stream",
     "text": [
      "Logistic Regression accuracy with PCA: 0.8948610858906846\n",
      "Duration: 0.706923246383667\n"
     ]
    }
   ],
   "source": [
    "### With Logistic Regression ###\n",
    "\n",
    "t0 = time()\n",
    "pca_logreg = LogisticRegression(solver = 'liblinear')\n",
    "pca_logreg.fit(pc_X_train, y_train.values.ravel())\n",
    "y_pred = pca_logreg.predict(pc_X_test)\n",
    "print (\"Logistic Regression accuracy with PCA:\", accuracy_score(y_test, y_pred))\n",
    "print (\"Duration:\", time() - t0)\n",
    "\n",
    "acc_mat[3].append(accuracy_score(y_test, y_pred))"
   ]
  },
  {
   "cell_type": "code",
   "execution_count": 99,
   "metadata": {},
   "outputs": [
    {
     "name": "stdout",
     "output_type": "stream",
     "text": [
      "Random Forest accuracy with PCA: 0.9308153259487925\n",
      "Duration: 27.063085079193115\n"
     ]
    }
   ],
   "source": [
    "### With Random Forest ###\n",
    "\n",
    "t0 = time()\n",
    "pca_rf = RandomForestClassifier(n_estimators = 100) #Was getting deprecation warning.\n",
    "pca_rf.fit(pc_X_train, y_train.values.ravel())\n",
    "y_pred = pca_rf.predict(pc_X_test)\n",
    "print (\"Random Forest accuracy with PCA:\", accuracy_score(y_test, y_pred))\n",
    "print (\"Duration:\", time() - t0)\n",
    "\n",
    "acc_mat[3].append(accuracy_score(y_test, y_pred))"
   ]
  },
  {
   "cell_type": "code",
   "execution_count": 100,
   "metadata": {},
   "outputs": [
    {
     "name": "stdout",
     "output_type": "stream",
     "text": [
      "Decision Tree accuracy with PCA: 0.8698020700926095\n",
      "Duration: 3.2425270080566406\n"
     ]
    }
   ],
   "source": [
    "### With Decision Trees ###\n",
    "\n",
    "t0 = time()\n",
    "pca_tree = DecisionTreeClassifier()\n",
    "pca_tree.fit(pc_X_train, y_train.values.ravel())\n",
    "y_pred = pca_tree.predict(pc_X_test)\n",
    "print (\"Decision Tree accuracy with PCA:\", accuracy_score(y_test, y_pred))\n",
    "print (\"Duration:\", time() - t0)\n",
    "\n",
    "acc_mat[3].append(accuracy_score(y_test, y_pred))"
   ]
  },
  {
   "cell_type": "code",
   "execution_count": 101,
   "metadata": {},
   "outputs": [
    {
     "name": "stdout",
     "output_type": "stream",
     "text": [
      "KMeans accuracy with PCA: 0.20210641002360633\n",
      "Duration: 4.401079416275024\n"
     ]
    }
   ],
   "source": [
    "### With KMeans ###\n",
    "\n",
    "t0 = time()\n",
    "pca_kmc = KMeans()\n",
    "pca_kmc.fit(pc_X_train, y_train.values.ravel())\n",
    "y_pred = pca_kmc.predict(pc_X_test)\n",
    "print (\"KMeans accuracy with PCA:\", accuracy_score(y_test, y_pred))\n",
    "print (\"Duration:\", time() - t0)\n",
    "\n",
    "acc_mat[3].append(accuracy_score(y_test, y_pred))"
   ]
  },
  {
   "cell_type": "code",
   "execution_count": 102,
   "metadata": {},
   "outputs": [
    {
     "name": "stdout",
     "output_type": "stream",
     "text": [
      "KMeans (unsupervised) accuracy with PCA: 0.09678590884329036\n",
      "Duration: 4.265692472457886\n"
     ]
    }
   ],
   "source": [
    "### With KMeans (Unsupervised) ###\n",
    "\n",
    "t0 = time()\n",
    "pca_kmc = KMeans()\n",
    "pca_kmc.fit(pc_X_train)\n",
    "y_pred = pca_kmc.predict(pc_X_test)\n",
    "print (\"KMeans (unsupervised) accuracy with PCA:\", accuracy_score(y_test, y_pred))\n",
    "print (\"Duration:\", time() - t0)\n",
    "\n",
    "acc_mat[3].append(accuracy_score(y_test, y_pred))"
   ]
  },
  {
   "cell_type": "code",
   "execution_count": 103,
   "metadata": {},
   "outputs": [
    {
     "name": "stdout",
     "output_type": "stream",
     "text": [
      "Support Vector Machine accuracy with PCA: 0.9141093154167423\n",
      "Duration: 41.01118302345276\n"
     ]
    }
   ],
   "source": [
    "### With Support Vector Machine ###\n",
    "\n",
    "t0 = time()\n",
    "pca_svm = SVC(gamma = 'scale') #Was getting deprecation warning.\n",
    "pca_svm.fit(pc_X_train, y_train.values.ravel())\n",
    "y_pred = pca_svm.predict(pc_X_test)\n",
    "print (\"Support Vector Machine accuracy with PCA:\", accuracy_score(y_test, y_pred))\n",
    "print (\"Duration:\", time() - t0)\n",
    "\n",
    "acc_mat[3].append(accuracy_score(y_test, y_pred))"
   ]
  },
  {
   "cell_type": "code",
   "execution_count": 104,
   "metadata": {},
   "outputs": [],
   "source": [
    "#Fill gaps in accuracy matrix \n",
    "acc_mat[3].append(np.nan)\n",
    "acc_mat[3].append(np.nan)\n",
    "acc_mat[3].append(np.nan)"
   ]
  },
  {
   "cell_type": "code",
   "execution_count": 105,
   "metadata": {},
   "outputs": [
    {
     "name": "stdout",
     "output_type": "stream",
     "text": [
      "t-SNE X_train dimensions: (31200, 2)\n",
      "t-SNE X_test dimensions: (5507, 2)\n"
     ]
    }
   ],
   "source": [
    "### T-DISTRIBUTED STOCHASTIC NEIGHBOR EMBEDDING ###\n",
    "\n",
    "from sklearn.manifold import TSNE\n",
    "\n",
    "#Important to note, I have used the pc_X_train and pc_X_test as inputs,\n",
    "#which were created above using PCA...\n",
    "\n",
    "#This is because in the t-SNE documentation it is advised that \n",
    "#dimentionality of a dataset is reduced to 50 or lower in order to \n",
    "#suppress noise. It also explicitly recommends using PCA to do so...\n",
    "\n",
    "tsne = TSNE() #Might need to specify n_components \n",
    "tsne_X_train = tsne.fit_transform(pc_X_train)\n",
    "tsne_X_test = tsne.fit_transform(pc_X_test)\n",
    "\n",
    "print(\"t-SNE X_train dimensions:\", tsne_X_train.shape)\n",
    "print(\"t-SNE X_test dimensions:\", tsne_X_test.shape)"
   ]
  },
  {
   "cell_type": "code",
   "execution_count": 106,
   "metadata": {},
   "outputs": [
    {
     "name": "stdout",
     "output_type": "stream",
     "text": [
      "KNN accuracy with t_SNE: 0.7005629199201017\n",
      "Duration: 0.2120828628540039\n"
     ]
    }
   ],
   "source": [
    "### With KNearest Neighbor ###\n",
    "\n",
    "t0 = time()\n",
    "tsne_knn = KNeighborsClassifier()\n",
    "tsne_knn.fit(tsne_X_train, y_train.values.ravel())\n",
    "y_pred = tsne_knn.predict(tsne_X_test)\n",
    "print (\"KNN accuracy with t_SNE:\", accuracy_score(y_test, y_pred))\n",
    "print (\"Duration:\", time() - t0)\n",
    "\n",
    "acc_mat[4].append(accuracy_score(y_test, y_pred))"
   ]
  },
  {
   "cell_type": "code",
   "execution_count": 107,
   "metadata": {},
   "outputs": [
    {
     "name": "stdout",
     "output_type": "stream",
     "text": [
      "Logistic Regression accuracy with t-SNE: 0.7820955147993462\n",
      "Duration: 0.06691813468933105\n"
     ]
    }
   ],
   "source": [
    "### With Logistic Regression ###\n",
    "\n",
    "t0 = time()\n",
    "tsne_logreg = LogisticRegression(solver = 'liblinear')\n",
    "tsne_logreg.fit(tsne_X_train, y_train.values.ravel())\n",
    "y_pred = tsne_logreg.predict(tsne_X_test)\n",
    "print (\"Logistic Regression accuracy with t-SNE:\", accuracy_score(y_test, y_pred))\n",
    "print (\"Duration:\", time() - t0)\n",
    "\n",
    "acc_mat[4].append(accuracy_score(y_test, y_pred))"
   ]
  },
  {
   "cell_type": "code",
   "execution_count": 108,
   "metadata": {},
   "outputs": [
    {
     "name": "stdout",
     "output_type": "stream",
     "text": [
      "Random Forest accuracy with t-SNE: 0.7090975122571272\n",
      "Duration: 5.815034866333008\n"
     ]
    }
   ],
   "source": [
    "### With Random Forest ###\n",
    "\n",
    "t0 = time()\n",
    "tsne_rf = RandomForestClassifier(n_estimators = 100) #Was getting deprecation warning.\n",
    "tsne_rf.fit(tsne_X_train, y_train.values.ravel())\n",
    "y_pred = tsne_rf.predict(tsne_X_test)\n",
    "print (\"Random Forest accuracy with t-SNE:\", accuracy_score(y_test, y_pred))\n",
    "print (\"Duration:\", time() - t0)\n",
    "\n",
    "acc_mat[4].append(accuracy_score(y_test, y_pred))"
   ]
  },
  {
   "cell_type": "code",
   "execution_count": 109,
   "metadata": {},
   "outputs": [
    {
     "name": "stdout",
     "output_type": "stream",
     "text": [
      "Decision Tree accuracy with t-SNE: 0.6947521336480843\n",
      "Duration: 0.16831254959106445\n"
     ]
    }
   ],
   "source": [
    "### With Decision Trees ###\n",
    "\n",
    "t0 = time()\n",
    "tsne_tree = DecisionTreeClassifier()\n",
    "tsne_tree.fit(tsne_X_train, y_train.values.ravel())\n",
    "y_pred = tsne_tree.predict(tsne_X_test)\n",
    "print (\"Decision Tree accuracy with t-SNE:\", accuracy_score(y_test, y_pred))\n",
    "print (\"Duration:\", time() - t0)\n",
    "\n",
    "acc_mat[4].append(accuracy_score(y_test, y_pred))"
   ]
  },
  {
   "cell_type": "code",
   "execution_count": 110,
   "metadata": {},
   "outputs": [
    {
     "name": "stdout",
     "output_type": "stream",
     "text": [
      "KMeans accuracy with t-SNE: 0.08116942073724351\n",
      "Duration: 3.2038965225219727\n"
     ]
    }
   ],
   "source": [
    "### With KMeans ###\n",
    "\n",
    "t0 = time()\n",
    "tsne_kmc = KMeans()\n",
    "tsne_kmc.fit(tsne_X_train, y_train.values.ravel())\n",
    "y_pred = tsne_kmc.predict(tsne_X_test)\n",
    "print (\"KMeans accuracy with t-SNE:\", accuracy_score(y_test, y_pred))\n",
    "print (\"Duration:\", time() - t0)\n",
    "\n",
    "acc_mat[4].append(accuracy_score(y_test, y_pred))"
   ]
  },
  {
   "cell_type": "code",
   "execution_count": 111,
   "metadata": {},
   "outputs": [
    {
     "name": "stdout",
     "output_type": "stream",
     "text": [
      "KMeans (unsupervised) accuracy with t-SNE: 0.1508988560014527\n",
      "Duration: 2.318188190460205\n"
     ]
    }
   ],
   "source": [
    "### With KMeans (Unsupervised) ###\n",
    "\n",
    "t0 = time()\n",
    "tsne_kmc = KMeans()\n",
    "tsne_kmc.fit(tsne_X_train)\n",
    "y_pred = tsne_kmc.predict(tsne_X_test)\n",
    "print (\"KMeans (unsupervised) accuracy with t-SNE:\", accuracy_score(y_test, y_pred))\n",
    "print (\"Duration:\", time() - t0)\n",
    "\n",
    "acc_mat[4].append(accuracy_score(y_test, y_pred))"
   ]
  },
  {
   "cell_type": "code",
   "execution_count": 112,
   "metadata": {},
   "outputs": [
    {
     "name": "stdout",
     "output_type": "stream",
     "text": [
      "Support Vector Machine accuracy with t-SNE: 0.7052841837661159\n",
      "Duration: 11.142209768295288\n"
     ]
    }
   ],
   "source": [
    "### With Support Vector Machine ###\n",
    "\n",
    "t0 = time()\n",
    "tsne_svm = SVC(gamma = 'scale') #Was getting deprecation warning.\n",
    "tsne_svm.fit(tsne_X_train, y_train.values.ravel())\n",
    "y_pred = tsne_svm.predict(tsne_X_test)\n",
    "print (\"Support Vector Machine accuracy with t-SNE:\", accuracy_score(y_test, y_pred))\n",
    "print (\"Duration:\", time() - t0)\n",
    "\n",
    "acc_mat[4].append(accuracy_score(y_test, y_pred))"
   ]
  },
  {
   "cell_type": "code",
   "execution_count": 113,
   "metadata": {},
   "outputs": [],
   "source": [
    "#Fill gaps in accuracy matrix \n",
    "acc_mat[4].append(np.nan)\n",
    "acc_mat[4].append(np.nan)\n",
    "acc_mat[4].append(np.nan)"
   ]
  },
  {
   "cell_type": "code",
   "execution_count": 114,
   "metadata": {},
   "outputs": [
    {
     "name": "stdout",
     "output_type": "stream",
     "text": [
      "ExtraTreeClassifier accuracy: 0.9929181042309787\n",
      "Duration: 6.813580513000488\n"
     ]
    }
   ],
   "source": [
    "### ENSAMBLE (FEATURE IMPORTANCE) ###\n",
    "\n",
    "### ExtraTreeClassifier ###\n",
    "\n",
    "from sklearn.ensemble import ExtraTreesClassifier\n",
    "\n",
    "t0 = time()\n",
    "et = ExtraTreesClassifier(n_estimators = 100) #To \"Future Warning\" I was getting.\n",
    "et.fit(X_train, y_train.values.ravel())\n",
    "y_pred = et.predict(X_test)\n",
    "print (\"ExtraTreeClassifier accuracy:\", accuracy_score(y_test, y_pred))\n",
    "print (\"Duration:\", time() - t0)\n",
    "\n",
    "acc_mat[1].append(accuracy_score(y_test, y_pred))"
   ]
  },
  {
   "cell_type": "code",
   "execution_count": 115,
   "metadata": {},
   "outputs": [],
   "source": [
    "### ADABoost Classifier ###\n",
    "\n",
    "from sklearn.ensemble import AdaBoostClassifier \n",
    "from sklearn.metrics import roc_auc_score\n",
    "\n",
    "#ADABoost requires a base estimator to be provided...\n",
    "\n",
    "#Fill gap for missing KNN in accuracy matrix\n",
    "acc_mat[5].append(np.nan)"
   ]
  },
  {
   "cell_type": "code",
   "execution_count": 116,
   "metadata": {},
   "outputs": [
    {
     "name": "stdout",
     "output_type": "stream",
     "text": [
      "ADABoost with Logistic Regression accuracy: 0.8378427455965135\n",
      "Duration: 11.855224609375\n"
     ]
    }
   ],
   "source": [
    "### ADABoost With Logistic Regression ###\n",
    "logreg = LogisticRegression(solver = 'liblinear')\n",
    "\n",
    "t0 = time()\n",
    "ada_logreg = AdaBoostClassifier(base_estimator = logreg)\n",
    "ada_logreg.fit(X_train, y_train.values.ravel())\n",
    "y_pred = ada_logreg.predict(X_test)\n",
    "print (\"ADABoost with Logistic Regression accuracy:\", accuracy_score(y_test, y_pred))\n",
    "print (\"Duration:\", time() - t0)\n",
    "\n",
    "acc_mat[5].append(accuracy_score(y_test, y_pred))"
   ]
  },
  {
   "cell_type": "code",
   "execution_count": 117,
   "metadata": {},
   "outputs": [
    {
     "name": "stdout",
     "output_type": "stream",
     "text": [
      "ADABoost with Random Forest accuracy: 0.9934628654439804\n",
      "Duration: 11.480770587921143\n"
     ]
    }
   ],
   "source": [
    "### ADABoost With Random Forest ###\n",
    "rf = RandomForestClassifier(n_estimators = 100)\n",
    "\n",
    "t0 = time()\n",
    "ada_rf = AdaBoostClassifier(base_estimator = rf)\n",
    "ada_rf.fit(X_train, y_train.values.ravel())\n",
    "y_pred = ada_rf.predict(X_test)\n",
    "print (\"ADABoost with Random Forest accuracy:\", accuracy_score(y_test, y_pred))\n",
    "print (\"Duration:\", time() - t0)\n",
    "\n",
    "acc_mat[5].append(accuracy_score(y_test, y_pred))"
   ]
  },
  {
   "cell_type": "code",
   "execution_count": 118,
   "metadata": {},
   "outputs": [
    {
     "name": "stdout",
     "output_type": "stream",
     "text": [
      "ADABoost with Decision Tree accuracy: 0.987652079171963\n",
      "Duration: 1.944486379623413\n"
     ]
    }
   ],
   "source": [
    "### ADABoost With Decision Trees ###\n",
    "dt = DecisionTreeClassifier()\n",
    "\n",
    "t0 = time()\n",
    "ada_dt = AdaBoostClassifier(base_estimator = dt)\n",
    "ada_dt.fit(X_train, y_train.values.ravel())\n",
    "y_pred = ada_dt.predict(X_test)\n",
    "print (\"ADABoost with Decision Tree accuracy:\", accuracy_score(y_test, y_pred))\n",
    "print (\"Duration:\", time() - t0)\n",
    "\n",
    "acc_mat[5].append(accuracy_score(y_test, y_pred))"
   ]
  },
  {
   "cell_type": "code",
   "execution_count": 119,
   "metadata": {},
   "outputs": [
    {
     "name": "stdout",
     "output_type": "stream",
     "text": [
      "ADABoost with KMeans accuracy: 0.9867441438169602\n",
      "Duration: 1.974719524383545\n"
     ]
    }
   ],
   "source": [
    "### ADABoost With KMeans ###\n",
    "kmc = KMeans()\n",
    "\n",
    "t0 = time()\n",
    "ada_kmc = AdaBoostClassifier(base_estimator = dt)\n",
    "ada_kmc.fit(X_train, y_train.values.ravel())\n",
    "y_pred = ada_kmc.predict(X_test)\n",
    "print (\"ADABoost with KMeans accuracy:\", accuracy_score(y_test, y_pred))\n",
    "print (\"Duration:\", time() - t0)\n",
    "\n",
    "acc_mat[5].append(accuracy_score(y_test, y_pred))\n",
    "acc_mat[5].append(np.nan)"
   ]
  },
  {
   "cell_type": "code",
   "execution_count": 120,
   "metadata": {},
   "outputs": [
    {
     "name": "stdout",
     "output_type": "stream",
     "text": [
      "ADABoost with Support Vector Machine accuracy: 0.9872889050299619\n",
      "Duration: 1.9846422672271729\n"
     ]
    }
   ],
   "source": [
    "### ADABoost With Support Vector Machines ###\n",
    "svm = SVC(gamma = 'scale')\n",
    "\n",
    "t0 = time()\n",
    "ada_svm = AdaBoostClassifier(base_estimator = dt)\n",
    "ada_svm.fit(X_train, y_train.values.ravel())\n",
    "y_pred = ada_svm.predict(X_test)\n",
    "print (\"ADABoost with Support Vector Machine accuracy:\", accuracy_score(y_test, y_pred))\n",
    "print (\"Duration:\", time() - t0)\n",
    "\n",
    "acc_mat[5].append(accuracy_score(y_test, y_pred))"
   ]
  },
  {
   "cell_type": "code",
   "execution_count": null,
   "metadata": {},
   "outputs": [],
   "source": [
    "#Fill gaps in accuracy matrix\n",
    "acc_mat[5].append(np.nan)\n",
    "acc_mat[5].append(np.nan)\n",
    "acc_mat[5].append(np.nan)"
   ]
  },
  {
   "cell_type": "code",
   "execution_count": 121,
   "metadata": {},
   "outputs": [
    {
     "name": "stdout",
     "output_type": "stream",
     "text": [
      "Gradient Boosting Classifier accuracy: 0.9733067005629199\n",
      "Duration: 19.397069454193115\n"
     ]
    }
   ],
   "source": [
    "### GradientBoostingClassifier ###\n",
    "\n",
    "from sklearn.ensemble import GradientBoostingClassifier\n",
    "\n",
    "t0 = time()\n",
    "gbc = GradientBoostingClassifier()\n",
    "gbc.fit(X_train, y_train.values.ravel())\n",
    "y_pred = gbc.predict(X_test)\n",
    "print (\"Gradient Boosting Classifier accuracy:\", accuracy_score(y_test, y_pred))\n",
    "print (\"Duration:\", time() - t0)\n",
    "\n",
    "acc_mat[1].append(accuracy_score(y_test, y_pred))"
   ]
  },
  {
   "cell_type": "code",
   "execution_count": 27,
   "metadata": {},
   "outputs": [
    {
     "name": "stdout",
     "output_type": "stream",
     "text": [
      "XGBoost accuracy: 0.9765752678409297\n",
      "Duration: 10.309298038482666\n"
     ]
    }
   ],
   "source": [
    "### XGBoost ###\n",
    "\n",
    "import xgboost as xgb\n",
    "\n",
    "t0 = time()\n",
    "xgboost = xgb.XGBClassifier()\n",
    "xgboost.fit(X_train, y_train.values.ravel())\n",
    "y_pred = xgboost.predict(X_test)\n",
    "print (\"XGBoost accuracy:\", accuracy_score(y_test, y_pred))\n",
    "print (\"Duration:\", time() - t0)\n",
    "\n",
    "# acc_mat[1].append(accuracy_score(y_test, y_pred))"
   ]
  },
  {
   "cell_type": "code",
   "execution_count": 122,
   "metadata": {},
   "outputs": [
    {
     "data": {
      "text/html": [
       "<div>\n",
       "<style scoped>\n",
       "    .dataframe tbody tr th:only-of-type {\n",
       "        vertical-align: middle;\n",
       "    }\n",
       "\n",
       "    .dataframe tbody tr th {\n",
       "        vertical-align: top;\n",
       "    }\n",
       "\n",
       "    .dataframe thead th {\n",
       "        text-align: right;\n",
       "    }\n",
       "</style>\n",
       "<table border=\"1\" class=\"dataframe\">\n",
       "  <thead>\n",
       "    <tr style=\"text-align: right;\">\n",
       "      <th></th>\n",
       "      <th>Algorithm</th>\n",
       "      <th>Baseline</th>\n",
       "      <th>RFE</th>\n",
       "      <th>PCA</th>\n",
       "      <th>t-SNE</th>\n",
       "      <th>ADABoost</th>\n",
       "    </tr>\n",
       "  </thead>\n",
       "  <tbody>\n",
       "    <tr>\n",
       "      <th>0</th>\n",
       "      <td>KNN</td>\n",
       "      <td>0.986381</td>\n",
       "      <td>NaN</td>\n",
       "      <td>0.973851</td>\n",
       "      <td>0.700563</td>\n",
       "      <td>NaN</td>\n",
       "    </tr>\n",
       "    <tr>\n",
       "      <th>1</th>\n",
       "      <td>LogReg</td>\n",
       "      <td>0.916288</td>\n",
       "      <td>0.920828</td>\n",
       "      <td>0.894861</td>\n",
       "      <td>0.782096</td>\n",
       "      <td>0.837843</td>\n",
       "    </tr>\n",
       "    <tr>\n",
       "      <th>2</th>\n",
       "      <td>Random Forest</td>\n",
       "      <td>0.992918</td>\n",
       "      <td>0.920828</td>\n",
       "      <td>0.930815</td>\n",
       "      <td>0.709098</td>\n",
       "      <td>0.993463</td>\n",
       "    </tr>\n",
       "    <tr>\n",
       "      <th>3</th>\n",
       "      <td>Decision Tree</td>\n",
       "      <td>0.98747</td>\n",
       "      <td>0.920828</td>\n",
       "      <td>0.869802</td>\n",
       "      <td>0.694752</td>\n",
       "      <td>0.987652</td>\n",
       "    </tr>\n",
       "    <tr>\n",
       "      <th>4</th>\n",
       "      <td>KMeans</td>\n",
       "      <td>0.142909</td>\n",
       "      <td>NaN</td>\n",
       "      <td>0.202106</td>\n",
       "      <td>0.0811694</td>\n",
       "      <td>0.986744</td>\n",
       "    </tr>\n",
       "    <tr>\n",
       "      <th>5</th>\n",
       "      <td>KMeans (Unsupervised)</td>\n",
       "      <td>0.114218</td>\n",
       "      <td>NaN</td>\n",
       "      <td>0.0967859</td>\n",
       "      <td>0.150899</td>\n",
       "      <td>NaN</td>\n",
       "    </tr>\n",
       "    <tr>\n",
       "      <th>6</th>\n",
       "      <td>SVM</td>\n",
       "      <td>0.920828</td>\n",
       "      <td>NaN</td>\n",
       "      <td>0.914109</td>\n",
       "      <td>0.705284</td>\n",
       "      <td>0.987289</td>\n",
       "    </tr>\n",
       "    <tr>\n",
       "      <th>7</th>\n",
       "      <td>ExtraTreeClassifier</td>\n",
       "      <td>0.992918</td>\n",
       "      <td>NaN</td>\n",
       "      <td>NaN</td>\n",
       "      <td>NaN</td>\n",
       "      <td>None</td>\n",
       "    </tr>\n",
       "    <tr>\n",
       "      <th>8</th>\n",
       "      <td>GradientBoostingClassifier</td>\n",
       "      <td>0.973307</td>\n",
       "      <td>NaN</td>\n",
       "      <td>NaN</td>\n",
       "      <td>NaN</td>\n",
       "      <td>None</td>\n",
       "    </tr>\n",
       "  </tbody>\n",
       "</table>\n",
       "</div>"
      ],
      "text/plain": [
       "                    Algorithm  Baseline       RFE        PCA      t-SNE  \\\n",
       "0                         KNN  0.986381       NaN   0.973851   0.700563   \n",
       "1                      LogReg  0.916288  0.920828   0.894861   0.782096   \n",
       "2               Random Forest  0.992918  0.920828   0.930815   0.709098   \n",
       "3               Decision Tree   0.98747  0.920828   0.869802   0.694752   \n",
       "4                      KMeans  0.142909       NaN   0.202106  0.0811694   \n",
       "5       KMeans (Unsupervised)  0.114218       NaN  0.0967859   0.150899   \n",
       "6                         SVM  0.920828       NaN   0.914109   0.705284   \n",
       "7         ExtraTreeClassifier  0.992918       NaN        NaN        NaN   \n",
       "8  GradientBoostingClassifier  0.973307       NaN        NaN        NaN   \n",
       "\n",
       "   ADABoost  \n",
       "0       NaN  \n",
       "1  0.837843  \n",
       "2  0.993463  \n",
       "3  0.987652  \n",
       "4  0.986744  \n",
       "5       NaN  \n",
       "6  0.987289  \n",
       "7      None  \n",
       "8      None  "
      ]
     },
     "execution_count": 122,
     "metadata": {},
     "output_type": "execute_result"
    }
   ],
   "source": [
    "#Convert accuracy matrix list into DataFrame\n",
    "accuracy_matrix = pd.DataFrame(acc_mat)\n",
    "accuracy_matrix = accuracy_matrix.transpose()\n",
    "accuracy_matrix.columns = ['Algorithm', 'Baseline', 'RFE', 'PCA', 't-SNE', 'ADABoost']\n",
    "\n",
    "accuracy_matrix"
   ]
  }
 ],
 "metadata": {
  "kernelspec": {
   "display_name": "Python 3",
   "language": "python",
   "name": "python3"
  },
  "language_info": {
   "codemirror_mode": {
    "name": "ipython",
    "version": 3
   },
   "file_extension": ".py",
   "mimetype": "text/x-python",
   "name": "python",
   "nbconvert_exporter": "python",
   "pygments_lexer": "ipython3",
   "version": "3.7.1"
  }
 },
 "nbformat": 4,
 "nbformat_minor": 2
}
